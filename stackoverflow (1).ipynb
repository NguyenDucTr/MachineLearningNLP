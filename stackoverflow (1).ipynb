{
  "nbformat": 4,
  "nbformat_minor": 0,
  "metadata": {
    "colab": {
      "name": "stackoverflow.ipynb",
      "provenance": [],
      "collapsed_sections": []
    },
    "kernelspec": {
      "name": "python3",
      "display_name": "Python 3"
    },
    "accelerator": "GPU"
  },
  "cells": [
    {
      "cell_type": "code",
      "metadata": {
        "id": "jESN_FC3i929",
        "colab_type": "code",
        "colab": {
          "base_uri": "https://localhost:8080/",
          "height": 72
        },
        "outputId": "b4cc7c2c-a5ca-4c14-d60e-e7721547c8f3"
      },
      "source": [
        "import pandas as pd\n",
        "import numpy as np\n",
        "from sklearn.metrics import accuracy_score,confusion_matrix\n",
        "import matplotlib.pyplot as plt\n",
        "import seaborn as sns\n",
        "import joblib\n",
        "from sklearn.pipeline import FeatureUnion\n",
        "from sklearn.feature_extraction.text import TfidfVectorizer\n",
        "from sklearn.feature_extraction.text import CountVectorizer"
      ],
      "execution_count": 1,
      "outputs": [
        {
          "output_type": "stream",
          "text": [
            "/usr/local/lib/python3.6/dist-packages/statsmodels/tools/_testing.py:19: FutureWarning: pandas.util.testing is deprecated. Use the functions in the public API at pandas.testing instead.\n",
            "  import pandas.util.testing as tm\n"
          ],
          "name": "stderr"
        }
      ]
    },
    {
      "cell_type": "code",
      "metadata": {
        "id": "SQ9Wgg2Ujb5o",
        "colab_type": "code",
        "colab": {
          "base_uri": "https://localhost:8080/",
          "height": 284
        },
        "outputId": "4ef8714b-953f-4693-ac12-e394944ca396"
      },
      "source": [
        "dataset=pd.read_csv(\"/content/drive/My Drive/DoAnMachineLeaning/full_dataset_v2.csv\",delimiter=\";\")\n",
        "print(dataset.info())"
      ],
      "execution_count": 2,
      "outputs": [
        {
          "output_type": "stream",
          "text": [
            "<class 'pandas.core.frame.DataFrame'>\n",
            "RangeIndex: 52005 entries, 0 to 52004\n",
            "Data columns (total 7 columns):\n",
            " #   Column    Non-Null Count  Dtype \n",
            "---  ------    --------------  ----- \n",
            " 0   title     52005 non-null  object\n",
            " 1   id_stack  52005 non-null  int64 \n",
            " 2   tags      52005 non-null  object\n",
            " 3   views     52005 non-null  int64 \n",
            " 4   score     52005 non-null  int64 \n",
            " 5   done      52005 non-null  bool  \n",
            " 6   label     52005 non-null  object\n",
            "dtypes: bool(1), int64(3), object(3)\n",
            "memory usage: 2.4+ MB\n",
            "None\n"
          ],
          "name": "stdout"
        }
      ]
    },
    {
      "cell_type": "code",
      "metadata": {
        "id": "qrgSCxPSltvr",
        "colab_type": "code",
        "colab": {
          "base_uri": "https://localhost:8080/",
          "height": 369
        },
        "outputId": "cb26e724-86ed-4c93-b9e5-9f8304c0e39e"
      },
      "source": [
        "sns.catplot(x=\"label\",kind=\"count\",data=dataset)\n",
        "plt.show()"
      ],
      "execution_count": 3,
      "outputs": [
        {
          "output_type": "display_data",
          "data": {
            "image/png": "[encoded data removed]",
            "text/plain": [
              "<Figure size 360x360 with 1 Axes>"
            ]
          },
          "metadata": {
            "tags": [],
            "needs_background": "light"
          }
        }
      ]
    },
    {
      "cell_type": "code",
      "metadata": {
        "id": "g_93DxoEgqdE",
        "colab_type": "code",
        "colab": {}
      },
      "source": [
        "X=dataset.iloc[:,0]\n",
        "Y1=dataset.iloc[:,-1]\n",
        "Y2=dataset.iloc[:,4]"
      ],
      "execution_count": 4,
      "outputs": []
    },
    {
      "cell_type": "code",
      "metadata": {
        "id": "E2zJfr3xjjbP",
        "colab_type": "code",
        "colab": {
          "base_uri": "https://localhost:8080/",
          "height": 52
        },
        "outputId": "2b58572d-187c-42fa-a820-ca762bd038e3"
      },
      "source": [
        "import nltk\n",
        "import re\n",
        "nltk.download(\"stopwords\")\n",
        "from nltk.corpus import stopwords\n",
        "from nltk.stem.porter import PorterStemmer\n",
        "corpus = []\n",
        "for review in X:\n",
        "    review=re.sub(\"[^a-zA-z]\",\" \",review)\n",
        "    review = review.split()\n",
        "    ps = PorterStemmer()\n",
        "    review = [ps.stem(word) for word in review\n",
        "if word not in stopwords.words(\"english\")]\n",
        "    review = \" \".join(review)\n",
        "    corpus.append(review)"
      ],
      "execution_count": 5,
      "outputs": [
        {
          "output_type": "stream",
          "text": [
            "[nltk_data] Downloading package stopwords to /root/nltk_data...\n",
            "[nltk_data]   Unzipping corpora/stopwords.zip.\n"
          ],
          "name": "stdout"
        }
      ]
    },
    {
      "cell_type": "code",
      "metadata": {
        "id": "A67nz3lrmd8N",
        "colab_type": "code",
        "colab": {
          "base_uri": "https://localhost:8080/",
          "height": 35
        },
        "outputId": "192f472c-3053-40ea-b518-e0a15f539cbf"
      },
      "source": [
        "cv=CountVectorizer()\n",
        "X=cv.fit_transform(corpus)\n",
        "print(X.shape[1])"
      ],
      "execution_count": 6,
      "outputs": [
        {
          "output_type": "stream",
          "text": [
            "17880\n"
          ],
          "name": "stdout"
        }
      ]
    },
    {
      "cell_type": "code",
      "metadata": {
        "id": "zpiJ_PHhkkyA",
        "colab_type": "code",
        "colab": {
          "base_uri": "https://localhost:8080/",
          "height": 35
        },
        "outputId": "94ecc5eb-35f6-4c9b-d49a-ed8e20186e0d"
      },
      "source": [
        "cv=CountVectorizer(max_features=17000)\n",
        "cv_fit=cv.fit(corpus)\n",
        "X=cv_fit.transform(corpus)\n",
        "print(X.shape[1])"
      ],
      "execution_count": 7,
      "outputs": [
        {
          "output_type": "stream",
          "text": [
            "17000\n"
          ],
          "name": "stdout"
        }
      ]
    },
    {
      "cell_type": "code",
      "metadata": {
        "id": "QqmgHoQr-ytK",
        "colab_type": "code",
        "colab": {
          "base_uri": "https://localhost:8080/",
          "height": 924
        },
        "outputId": "b7fe936c-cc0b-47e4-c4ed-0f1c407215c6"
      },
      "source": [
        "print(corpus)"
      ],
      "execution_count": 13,
      "outputs": [
        {
          "output_type": "stream",
          "text": [
            "  (0, 2340)\t1\n",
            "  (0, 4416)\t1\n",
            "  (0, 7984)\t1\n",
            "  (0, 15848)\t1\n",
            "  (1, 3765)\t1\n",
            "  (1, 10225)\t1\n",
            "  (1, 11372)\t1\n",
            "  (1, 11436)\t1\n",
            "  (1, 13598)\t1\n",
            "  (2, 4730)\t1\n",
            "  (2, 12001)\t1\n",
            "  (2, 14164)\t1\n",
            "  (2, 14980)\t1\n",
            "  (3, 285)\t1\n",
            "  (3, 5264)\t1\n",
            "  (3, 5286)\t1\n",
            "  (3, 6363)\t1\n",
            "  (3, 6569)\t1\n",
            "  (3, 9258)\t1\n",
            "  (3, 13726)\t1\n",
            "  (4, 1316)\t1\n",
            "  (4, 1326)\t1\n",
            "  (4, 2605)\t1\n",
            "  (4, 2621)\t1\n",
            "  (4, 3456)\t1\n",
            "  :\t:\n",
            "  (52001, 1724)\t1\n",
            "  (52001, 2383)\t1\n",
            "  (52001, 3428)\t1\n",
            "  (52001, 6569)\t1\n",
            "  (52001, 10068)\t1\n",
            "  (52001, 15848)\t1\n",
            "  (52002, 4649)\t1\n",
            "  (52002, 4750)\t1\n",
            "  (52002, 5675)\t1\n",
            "  (52002, 6785)\t1\n",
            "  (52002, 9591)\t1\n",
            "  (52002, 9820)\t1\n",
            "  (52002, 10004)\t1\n",
            "  (52002, 11152)\t1\n",
            "  (52002, 15288)\t1\n",
            "  (52002, 16104)\t1\n",
            "  (52003, 3850)\t1\n",
            "  (52003, 5937)\t1\n",
            "  (52003, 7119)\t1\n",
            "  (52003, 10522)\t1\n",
            "  (52003, 16121)\t1\n",
            "  (52004, 3129)\t1\n",
            "  (52004, 3329)\t1\n",
            "  (52004, 16477)\t1\n",
            "  (52004, 16590)\t1\n"
          ],
          "name": "stdout"
        }
      ]
    },
    {
      "cell_type": "code",
      "metadata": {
        "id": "uvN2AYkiebWU",
        "colab_type": "code",
        "colab": {}
      },
      "source": [
        "from sklearn.model_selection import train_test_split\n",
        "x_train1,x_test1,y_train1,y_test1 =train_test_split(X,Y1,train_size=0.8,random_state=0)\n",
        "x_train2,x_test2,y_train2,y_test2 =train_test_split(X,Y2,train_size=0.8,random_state=0)"
      ],
      "execution_count": 9,
      "outputs": []
    },
    {
      "cell_type": "code",
      "metadata": {
        "id": "IqXt-ZD8cnrG",
        "colab_type": "code",
        "colab": {
          "base_uri": "https://localhost:8080/",
          "height": 500
        },
        "outputId": "efe3494a-55cc-4087-f972-f2677dae2769"
      },
      "source": [
        "from sklearn.naive_bayes import  MultinomialNB\n",
        "model=MultinomialNB()\n",
        "model.fit(x_train1,y_train1)\n",
        "y_pred1=model.predict(x_test1)\n",
        "score=accuracy_score(y_test1,y_pred1)\n",
        "print(score)\n",
        "cm =confusion_matrix(y_test1,y_pred1)\n",
        "fig, ax = plt.subplots(figsize=(8,8))\n",
        "sns.heatmap(cm, annot=True,ax = ax,fmt='g',cmap='coolwarm')\n",
        "plt.show()"
      ],
      "execution_count": 10,
      "outputs": [
        {
          "output_type": "stream",
          "text": [
            "0.7952119988462648\n"
          ],
          "name": "stdout"
        },
        {
          "output_type": "display_data",
          "data": {
            "image/png": "[encoded data removed]",
            "text/plain": [
              "<Figure size 576x576 with 2 Axes>"
            ]
          },
          "metadata": {
            "tags": [],
            "needs_background": "light"
          }
        }
      ]
    },
    {
      "cell_type": "code",
      "metadata": {
        "id": "Qwes9Rlfk1z5",
        "colab_type": "code",
        "colab": {
          "base_uri": "https://localhost:8080/",
          "height": 35
        },
        "outputId": "58a6790a-2573-462e-de55-484965dbdb14"
      },
      "source": [
        "joblib.dump(model,\"/content/drive/My Drive/DoAnMachineLeaning/MulNB.h5\")\n",
        "joblib.dump(cv_fit,\"/content/drive/My Drive/DoAnMachineLeaning/CountVector.h5\")"
      ],
      "execution_count": null,
      "outputs": [
        {
          "output_type": "execute_result",
          "data": {
            "text/plain": [
              "['/content/drive/My Drive/DoAnMachineLeaning/CountVector.h5']"
            ]
          },
          "metadata": {
            "tags": []
          },
          "execution_count": 23
        }
      ]
    },
    {
      "cell_type": "code",
      "metadata": {
        "id": "8CykRIoqlZuc",
        "colab_type": "code",
        "colab": {
          "base_uri": "https://localhost:8080/",
          "height": 500
        },
        "outputId": "e89d8bb4-952d-4518-b407-f0bb6a594a45"
      },
      "source": [
        "from sklearn.tree import DecisionTreeClassifier\n",
        "model=DecisionTreeClassifier(criterion = \"entropy\",random_state=0)\n",
        "model.fit(x_train1,y_train1)\n",
        "y_pred1=model.predict(x_test1)\n",
        "score=accuracy_score(y_test1,y_pred1)\n",
        "print(score)\n",
        "cm =confusion_matrix(y_test1,y_pred1)\n",
        "fig, ax = plt.subplots(figsize=(8,8))\n",
        "sns.heatmap(cm, annot=True,ax = ax,fmt='g',cmap='coolwarm')\n",
        "plt.show()"
      ],
      "execution_count": 11,
      "outputs": [
        {
          "output_type": "stream",
          "text": [
            "0.7027208922219017\n"
          ],
          "name": "stdout"
        },
        {
          "output_type": "display_data",
          "data": {
            "image/png": "[encoded data removed]",
            "text/plain": [
              "<Figure size 576x576 with 2 Axes>"
            ]
          },
          "metadata": {
            "tags": [],
            "needs_background": "light"
          }
        }
      ]
    },
    {
      "cell_type": "code",
      "metadata": {
        "id": "wUuaUkHilpcy",
        "colab_type": "code",
        "colab": {
          "base_uri": "https://localhost:8080/",
          "height": 35
        },
        "outputId": "1ee7e0fc-af4d-44af-9601-6c536063bb05"
      },
      "source": [
        "joblib.dump(model,\"/content/drive/My Drive/DoAnMachineLeaning/CayQuyetDinh.h5\")"
      ],
      "execution_count": null,
      "outputs": [
        {
          "output_type": "execute_result",
          "data": {
            "text/plain": [
              "['/content/drive/My Drive/DoAnMachineLeaning/CayQuyetDinh.h5']"
            ]
          },
          "metadata": {
            "tags": []
          },
          "execution_count": 27
        }
      ]
    },
    {
      "cell_type": "code",
      "metadata": {
        "id": "lMdJZteA-XyP",
        "colab_type": "code",
        "colab": {
          "base_uri": "https://localhost:8080/",
          "height": 643
        },
        "outputId": "1d05d165-8749-4ad2-c719-aefbf4e7e98a"
      },
      "source": [
        "from sklearn.linear_model import LogisticRegression\n",
        "model=LogisticRegression()\n",
        "model.fit(x_train1,y_train1)\n",
        "y_pred1=model.predict(x_test1)\n",
        "score=accuracy_score(y_test1,y_pred1)\n",
        "print(score)\n",
        "cm =confusion_matrix(y_test1,y_pred1)\n",
        "fig, ax = plt.subplots(figsize=(8,8))\n",
        "sns.heatmap(cm, annot=True,ax = ax,fmt='g',cmap='coolwarm')\n",
        "plt.show()"
      ],
      "execution_count": 12,
      "outputs": [
        {
          "output_type": "stream",
          "text": [
            "/usr/local/lib/python3.6/dist-packages/sklearn/linear_model/_logistic.py:940: ConvergenceWarning: lbfgs failed to converge (status=1):\n",
            "STOP: TOTAL NO. of ITERATIONS REACHED LIMIT.\n",
            "\n",
            "Increase the number of iterations (max_iter) or scale the data as shown in:\n",
            "    https://scikit-learn.org/stable/modules/preprocessing.html\n",
            "Please also refer to the documentation for alternative solver options:\n",
            "    https://scikit-learn.org/stable/modules/linear_model.html#logistic-regression\n",
            "  extra_warning_msg=_LOGISTIC_SOLVER_CONVERGENCE_MSG)\n"
          ],
          "name": "stderr"
        },
        {
          "output_type": "stream",
          "text": [
            "0.8030958561676762\n"
          ],
          "name": "stdout"
        },
        {
          "output_type": "display_data",
          "data": {
            "image/png": "[encoded data removed]",
            "text/plain": [
              "<Figure size 576x576 with 2 Axes>"
            ]
          },
          "metadata": {
            "tags": [],
            "needs_background": "light"
          }
        }
      ]
    },
    {
      "cell_type": "code",
      "metadata": {
        "id": "DF0m_SdGD9bb",
        "colab_type": "code",
        "colab": {
          "base_uri": "https://localhost:8080/",
          "height": 230
        },
        "outputId": "76309c90-6cd3-44b6-b689-f65d4b5eb2f4"
      },
      "source": [
        "data=dataset\n",
        "data=data.iloc[:,0]\n",
        "print(X)"
      ],
      "execution_count": 27,
      "outputs": [
        {
          "output_type": "stream",
          "text": [
            "0                    Using entries from other kivy classes\n",
            "1         Package python software with pylucene dependency\n",
            "2                 Extracting time with regex from a string\n",
            "3        How do I add specific headers before each form...\n",
            "4        Barplot from a dataframe using a column to set...\n",
            "                               ...                        \n",
            "52000        return not working on JS but console.log does\n",
            "52001    How to clear data of AutoComplete Box using On...\n",
            "52002    Facade\\Ignition\\Exceptions\\ViewException Tryin...\n",
            "52003               Install git on vim for php development\n",
            "52004                  Creating custom widget in wordpress\n",
            "Name: title, Length: 52005, dtype: object\n"
          ],
          "name": "stdout"
        }
      ]
    },
    {
      "cell_type": "code",
      "metadata": {
        "id": "hOOCQbRaEBEq",
        "colab_type": "code",
        "colab": {}
      },
      "source": [
        "from sklearn.feature_extraction.text import TfidfVectorizer\n",
        "tfidf=TfidfVectorizer()\n",
        "X=tfidf.fit_transform(data)\n",
        "Y=dataset.iloc[:,4]\n",
        "x_train2,x_test2,y_train2,y_test2 =train_test_split(X,Y,train_size=0.8,random_state=0)"
      ],
      "execution_count": 28,
      "outputs": []
    },
    {
      "cell_type": "code",
      "metadata": {
        "id": "5XwU9t33-nda",
        "colab_type": "code",
        "colab": {
          "base_uri": "https://localhost:8080/",
          "height": 35
        },
        "outputId": "f2263d73-063a-45a4-d2ce-a27122ba2a5b"
      },
      "source": [
        "from sklearn.linear_model import LinearRegression\n",
        "model=LinearRegression()\n",
        "model.fit(x_train2,y_train2)\n",
        "from sklearn.metrics import r2_score\n",
        "score=r2_score(y_test2,model.predict(x_test2))\n",
        "print(score)"
      ],
      "execution_count": 29,
      "outputs": [
        {
          "output_type": "stream",
          "text": [
            "-0.40894478301327997\n"
          ],
          "name": "stdout"
        }
      ]
    },
    {
      "cell_type": "code",
      "metadata": {
        "id": "gcAEq6Fw_f3I",
        "colab_type": "code",
        "colab": {
          "base_uri": "https://localhost:8080/",
          "height": 35
        },
        "outputId": "54b99717-852b-4784-f85b-0fedbd1d7c79"
      },
      "source": [
        "from sklearn.svm import SVR\n",
        "model = SVR(kernel = \"rbf\")\n",
        "model.fit(x_train2,y_train2)\n",
        "from sklearn.metrics import r2_score\n",
        "score=r2_score(y_test2,model.predict(x_test2))\n",
        "print(score)"
      ],
      "execution_count": 30,
      "outputs": [
        {
          "output_type": "stream",
          "text": [
            "-0.007459702700515436\n"
          ],
          "name": "stdout"
        }
      ]
    }
  ]
}